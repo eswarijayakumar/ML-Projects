{
  "nbformat": 4,
  "nbformat_minor": 0,
  "metadata": {
    "colab": {
      "name": "Text Summarization.ipynb",
      "provenance": [],
      "collapsed_sections": [],
      "authorship_tag": "ABX9TyNG6qGLyLjzHY+ktZkVIhq/",
      "include_colab_link": true
    },
    "kernelspec": {
      "name": "python3",
      "display_name": "Python 3"
    },
    "language_info": {
      "name": "python"
    }
  },
  "cells": [
    {
      "cell_type": "markdown",
      "metadata": {
        "id": "view-in-github",
        "colab_type": "text"
      },
      "source": [
        "<a href=\"https://colab.research.google.com/github/eswarijayakumar/ML-Projects/blob/main/NLP/Text_Summarization.ipynb\" target=\"_parent\"><img src=\"https://colab.research.google.com/assets/colab-badge.svg\" alt=\"Open In Colab\"/></a>"
      ]
    },
    {
      "cell_type": "code",
      "execution_count": null,
      "metadata": {
        "id": "rVZEu2_xc3cB"
      },
      "outputs": [],
      "source": [
        "import urllib.request\n",
        "import bs4 as BeautifulSoup\n",
        "import nltk\n",
        "from string import punctuation\n",
        "from nltk.corpus import stopwords\n",
        "from nltk.tokenize import word_tokenize\n",
        "from nltk.tokenize import sent_tokenize\n",
        "nltk.download('punkt')"
      ]
    },
    {
      "cell_type": "code",
      "source": [
        "url_contents = urllib.request.urlopen('https://en.wikipedia.org/wiki/Tamil_Nadu')\n",
        "wiki_contents = url_contents.read()\n",
        "wiki_contents"
      ],
      "metadata": {
        "id": "SaP2DzGWfPGu"
      },
      "execution_count": null,
      "outputs": []
    },
    {
      "cell_type": "code",
      "source": [
        "parsed_wiki_contents = BeautifulSoup.BeautifulSoup(wiki_contents, 'html.parser')\n",
        "wiki_paragraphs = parsed_wiki_contents.find_all('p')\n",
        "wiki_paragraphs"
      ],
      "metadata": {
        "id": "Rn2q9Xcgf0Jx"
      },
      "execution_count": null,
      "outputs": []
    },
    {
      "cell_type": "code",
      "source": [
        "final_contents = ''\n",
        "for paragraph in wiki_paragraphs:\n",
        "  final_contents += paragraph.text\n",
        "\n",
        "final_contents"
      ],
      "metadata": {
        "id": "1n5jtZJTgZj7"
      },
      "execution_count": null,
      "outputs": []
    },
    {
      "cell_type": "code",
      "source": [
        "nltk.download(\"stopwords\")\n",
        "stop_words = stopwords.words(\"english\")\n",
        "\n",
        "punctuation = punctuation+'\\n'\n",
        "punctuation"
      ],
      "metadata": {
        "id": "XxyuYEzmhCYU"
      },
      "execution_count": null,
      "outputs": []
    },
    {
      "cell_type": "code",
      "source": [
        "tokens = word_tokenize(final_contents)"
      ],
      "metadata": {
        "id": "35CH1nppiwce"
      },
      "execution_count": 15,
      "outputs": []
    },
    {
      "cell_type": "code",
      "source": [
        "word_frequencies = {}\n",
        "for word in tokens:\n",
        "  if word.lower() not in stop_words:\n",
        "    if word.lower() not in punctuation:\n",
        "      if word not in word_frequencies.keys():\n",
        "        word_frequencies[word] = 1\n",
        "      else:\n",
        "        word_frequencies[word] = +1\n",
        "\n",
        "word_frequencies"
      ],
      "metadata": {
        "id": "zTjJ7245jTSJ"
      },
      "execution_count": null,
      "outputs": []
    },
    {
      "cell_type": "code",
      "source": [
        "max_frequency = max(word_frequencies.values())\n",
        "max_frequency"
      ],
      "metadata": {
        "id": "OFNS6ipIkKgh"
      },
      "execution_count": null,
      "outputs": []
    },
    {
      "cell_type": "code",
      "source": [
        "for word in word_frequencies.keys():\n",
        "  word_frequencies[word] = word_frequencies[word]/max_frequency"
      ],
      "metadata": {
        "id": "wLwwy54clttF"
      },
      "execution_count": 20,
      "outputs": []
    },
    {
      "cell_type": "code",
      "source": [
        "sentences = sent_tokenize(final_contents)\n",
        "sentences"
      ],
      "metadata": {
        "id": "MDakpVgIlzcV"
      },
      "execution_count": null,
      "outputs": []
    },
    {
      "cell_type": "code",
      "source": [
        "sentence_frequencies = {}\n",
        "for sent in sentences:\n",
        "  sentence_words = sent.split(\" \")\n",
        "  for word in sentence_words:\n",
        "    if word.lower() in word_frequencies.keys():\n",
        "      if sent not in sentence_frequencies.keys():\n",
        "        sentence_frequencies[sent] = word_frequencies[word.lower()]\n",
        "      else:\n",
        "        sentence_frequencies[sent] += word_frequencies[word.lower()]\n",
        "sentence_frequencies"
      ],
      "metadata": {
        "id": "EUNZ3wzxl6et"
      },
      "execution_count": null,
      "outputs": []
    },
    {
      "cell_type": "code",
      "source": [
        "from heapq import nlargest\n",
        "\n",
        "select_length = int(len(sentences)*0.2)\n",
        "select_length\n"
      ],
      "metadata": {
        "colab": {
          "base_uri": "https://localhost:8080/"
        },
        "id": "FaTNy_QUp_Xz",
        "outputId": "4993a9b7-8e90-4f78-ccbb-c250e10fd42e"
      },
      "execution_count": 26,
      "outputs": [
        {
          "output_type": "execute_result",
          "data": {
            "text/plain": [
              "96"
            ]
          },
          "metadata": {},
          "execution_count": 26
        }
      ]
    },
    {
      "cell_type": "code",
      "source": [
        "summary = nlargest(select_length, sentence_frequencies, key=sentence_frequencies.get)\n",
        "summary"
      ],
      "metadata": {
        "id": "YbgTtRcDxRu7"
      },
      "execution_count": null,
      "outputs": []
    },
    {
      "cell_type": "code",
      "source": [
        "final_summary = [word for word in summary]\n",
        "summary = ' '.join(final_summary)"
      ],
      "metadata": {
        "id": "RGm7sWbTx7SR"
      },
      "execution_count": 29,
      "outputs": []
    },
    {
      "cell_type": "code",
      "source": [
        "summary"
      ],
      "metadata": {
        "id": "mYw18MVayBDI"
      },
      "execution_count": null,
      "outputs": []
    }
  ]
}